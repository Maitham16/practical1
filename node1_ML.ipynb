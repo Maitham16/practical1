{
 "cells": [
  {
   "cell_type": "code",
   "execution_count": 1,
   "metadata": {
    "dotnet_interactive": {
     "language": "csharp"
    },
    "polyglot_notebook": {
     "kernelName": "csharp"
    }
   },
   "outputs": [],
   "source": [
    "import pandas as pd\n",
    "\n",
    "# Load stale data\n",
    "stale_data = pd.read_csv('dataset.csv')\n",
    "\n",
    "# Load real-time data\n",
    "real_time_data = pd.read_csv('node1_data.csv')\n",
    "\n",
    "# Combine the two datasets\n",
    "data = pd.concat([stale_data, real_time_data], ignore_index=True)"
   ]
  },
  {
   "cell_type": "code",
   "execution_count": 2,
   "metadata": {
    "dotnet_interactive": {
     "language": "csharp"
    },
    "polyglot_notebook": {
     "kernelName": "csharp"
    }
   },
   "outputs": [
    {
     "name": "stdout",
     "output_type": "stream",
     "text": [
      "Non-numeric columns: Index(['car_id', 'model', 'node', 'charging'], dtype='object')\n",
      "Unique values in car_id: ['ABC789' 'ABC456' 'ABCD123' 'ABCD456' 'WQAS321' 'WQAS543' 'ZASW1234'\n",
      " 'Wien1' 'Wien2' 'Wien3' 'Wien4' 'Wien5' 'Wien6' 'Wien7' 'Wien8' 'Wien9'\n",
      " 'Wien10' 'ABC123' 'ABD165' 'ABF185' 'ABE456']\n",
      "Unique values in model: ['Model W' 'Model G' 'Model F' 'Model E' 'Model Q' 'Model M' 'Model S']\n",
      "Unique values in node: ['Node 1']\n",
      "Unique values in charging: [False]\n"
     ]
    }
   ],
   "source": [
    "non_numeric_columns = data.select_dtypes(exclude=['number']).columns\n",
    "print(\"Non-numeric columns:\", non_numeric_columns)\n",
    "\n",
    "# Inspect unique values in these columns\n",
    "for column in non_numeric_columns:\n",
    "    print(f\"Unique values in {column}:\", data[column].unique())"
   ]
  },
  {
   "cell_type": "code",
   "execution_count": 3,
   "metadata": {
    "dotnet_interactive": {
     "language": "csharp"
    },
    "polyglot_notebook": {
     "kernelName": "csharp"
    }
   },
   "outputs": [],
   "source": [
    "data.drop(columns=['car_id'], inplace=True)\n",
    "\n",
    "# One-hot encode potential categorical columns\n",
    "data = pd.get_dummies(data, drop_first=True)"
   ]
  },
  {
   "cell_type": "code",
   "execution_count": 4,
   "metadata": {
    "dotnet_interactive": {
     "language": "csharp"
    },
    "polyglot_notebook": {
     "kernelName": "csharp"
    }
   },
   "outputs": [],
   "source": [
    "from sklearn.model_selection import train_test_split\n",
    "from sklearn.preprocessing import StandardScaler\n",
    "\n",
    "# Assuming the last column is the target variable\n",
    "X = data.iloc[:, :-1]\n",
    "y = data.iloc[:, -1]\n",
    "\n",
    "X_train, X_test, y_train, y_test = train_test_split(X, y, test_size=0.2, random_state=42)\n",
    "\n",
    "scaler = StandardScaler()\n",
    "X_train = scaler.fit_transform(X_train)\n",
    "X_test = scaler.transform(X_test)"
   ]
  },
  {
   "cell_type": "code",
   "execution_count": 5,
   "metadata": {
    "dotnet_interactive": {
     "language": "csharp"
    },
    "polyglot_notebook": {
     "kernelName": "csharp"
    }
   },
   "outputs": [
    {
     "name": "stderr",
     "output_type": "stream",
     "text": [
      "2023-08-14 00:12:42.216545: I tensorflow/core/platform/cpu_feature_guard.cc:193] This TensorFlow binary is optimized with oneAPI Deep Neural Network Library (oneDNN) to use the following CPU instructions in performance-critical operations:  AVX2 AVX512F AVX512_VNNI FMA\n",
      "To enable them in other operations, rebuild TensorFlow with the appropriate compiler flags.\n",
      "2023-08-14 00:12:42.317526: I tensorflow/core/util/port.cc:104] oneDNN custom operations are on. You may see slightly different numerical results due to floating-point round-off errors from different computation orders. To turn them off, set the environment variable `TF_ENABLE_ONEDNN_OPTS=0`.\n",
      "2023-08-14 00:12:42.320031: W tensorflow/compiler/xla/stream_executor/platform/default/dso_loader.cc:64] Could not load dynamic library 'libcudart.so.11.0'; dlerror: libcudart.so.11.0: cannot open shared object file: No such file or directory\n",
      "2023-08-14 00:12:42.320040: I tensorflow/compiler/xla/stream_executor/cuda/cudart_stub.cc:29] Ignore above cudart dlerror if you do not have a GPU set up on your machine.\n",
      "2023-08-14 00:12:42.785143: W tensorflow/compiler/xla/stream_executor/platform/default/dso_loader.cc:64] Could not load dynamic library 'libnvinfer.so.7'; dlerror: libnvinfer.so.7: cannot open shared object file: No such file or directory\n",
      "2023-08-14 00:12:42.785194: W tensorflow/compiler/xla/stream_executor/platform/default/dso_loader.cc:64] Could not load dynamic library 'libnvinfer_plugin.so.7'; dlerror: libnvinfer_plugin.so.7: cannot open shared object file: No such file or directory\n",
      "2023-08-14 00:12:42.785198: W tensorflow/compiler/tf2tensorrt/utils/py_utils.cc:38] TF-TRT Warning: Cannot dlopen some TensorRT libraries. If you would like to use Nvidia GPU with TensorRT, please make sure the missing libraries mentioned above are installed properly.\n"
     ]
    },
    {
     "name": "stdout",
     "output_type": "stream",
     "text": [
      "Epoch 1/50\n"
     ]
    },
    {
     "name": "stderr",
     "output_type": "stream",
     "text": [
      "2023-08-14 00:12:43.304434: W tensorflow/compiler/xla/stream_executor/platform/default/dso_loader.cc:64] Could not load dynamic library 'libcuda.so.1'; dlerror: libcuda.so.1: cannot open shared object file: No such file or directory\n",
      "2023-08-14 00:12:43.304450: W tensorflow/compiler/xla/stream_executor/cuda/cuda_driver.cc:265] failed call to cuInit: UNKNOWN ERROR (303)\n",
      "2023-08-14 00:12:43.304466: I tensorflow/compiler/xla/stream_executor/cuda/cuda_diagnostics.cc:156] kernel driver does not appear to be running on this host (debian): /proc/driver/nvidia/version does not exist\n",
      "2023-08-14 00:12:43.304655: I tensorflow/core/platform/cpu_feature_guard.cc:193] This TensorFlow binary is optimized with oneAPI Deep Neural Network Library (oneDNN) to use the following CPU instructions in performance-critical operations:  AVX2 AVX512F AVX512_VNNI FMA\n",
      "To enable them in other operations, rebuild TensorFlow with the appropriate compiler flags.\n"
     ]
    },
    {
     "name": "stdout",
     "output_type": "stream",
     "text": [
      "1902/1902 [==============================] - 2s 795us/step - loss: 0.0411 - accuracy: 0.9881 - val_loss: 6.9407e-04 - val_accuracy: 1.0000\n",
      "Epoch 2/50\n",
      "1902/1902 [==============================] - 1s 731us/step - loss: 2.3363e-04 - accuracy: 1.0000 - val_loss: 8.1668e-05 - val_accuracy: 1.0000\n",
      "Epoch 3/50\n",
      "1902/1902 [==============================] - 1s 731us/step - loss: 3.8781e-05 - accuracy: 1.0000 - val_loss: 1.9740e-05 - val_accuracy: 1.0000\n",
      "Epoch 4/50\n",
      "1902/1902 [==============================] - 1s 787us/step - loss: 1.0489e-05 - accuracy: 1.0000 - val_loss: 5.9030e-06 - val_accuracy: 1.0000\n",
      "Epoch 5/50\n",
      "1902/1902 [==============================] - 1s 749us/step - loss: 3.2246e-06 - accuracy: 1.0000 - val_loss: 1.8620e-06 - val_accuracy: 1.0000\n",
      "Epoch 6/50\n",
      "1902/1902 [==============================] - 1s 743us/step - loss: 1.0437e-06 - accuracy: 1.0000 - val_loss: 6.2153e-07 - val_accuracy: 1.0000\n",
      "Epoch 7/50\n",
      "1902/1902 [==============================] - 1s 764us/step - loss: 3.4630e-07 - accuracy: 1.0000 - val_loss: 2.0130e-07 - val_accuracy: 1.0000\n",
      "Epoch 8/50\n",
      "1902/1902 [==============================] - 1s 767us/step - loss: 1.1423e-07 - accuracy: 1.0000 - val_loss: 6.8075e-08 - val_accuracy: 1.0000\n",
      "Epoch 9/50\n",
      "1902/1902 [==============================] - 2s 790us/step - loss: 3.9591e-08 - accuracy: 1.0000 - val_loss: 2.4081e-08 - val_accuracy: 1.0000\n",
      "Epoch 10/50\n",
      "1902/1902 [==============================] - 2s 857us/step - loss: 1.4832e-08 - accuracy: 1.0000 - val_loss: 9.7048e-09 - val_accuracy: 1.0000\n",
      "Epoch 11/50\n",
      "1902/1902 [==============================] - 2s 860us/step - loss: 6.3568e-09 - accuracy: 1.0000 - val_loss: 4.5702e-09 - val_accuracy: 1.0000\n",
      "Epoch 12/50\n",
      "1902/1902 [==============================] - 2s 797us/step - loss: 3.3550e-09 - accuracy: 1.0000 - val_loss: 2.7783e-09 - val_accuracy: 1.0000\n",
      "Epoch 13/50\n",
      "1902/1902 [==============================] - 1s 779us/step - loss: 2.2968e-09 - accuracy: 1.0000 - val_loss: 2.0814e-09 - val_accuracy: 1.0000\n",
      "Epoch 14/50\n",
      "1902/1902 [==============================] - 2s 804us/step - loss: 1.8653e-09 - accuracy: 1.0000 - val_loss: 1.8580e-09 - val_accuracy: 1.0000\n",
      "Epoch 15/50\n",
      "1902/1902 [==============================] - 1s 781us/step - loss: 1.6614e-09 - accuracy: 1.0000 - val_loss: 1.6158e-09 - val_accuracy: 1.0000\n",
      "Epoch 16/50\n",
      "1902/1902 [==============================] - 1s 767us/step - loss: 1.5653e-09 - accuracy: 1.0000 - val_loss: 1.7070e-09 - val_accuracy: 1.0000\n",
      "Epoch 17/50\n",
      "1902/1902 [==============================] - 1s 788us/step - loss: 1.5171e-09 - accuracy: 1.0000 - val_loss: 1.4965e-09 - val_accuracy: 1.0000\n",
      "Epoch 18/50\n",
      "1902/1902 [==============================] - 2s 809us/step - loss: 1.4675e-09 - accuracy: 1.0000 - val_loss: 1.4836e-09 - val_accuracy: 1.0000\n",
      "Epoch 19/50\n",
      "1902/1902 [==============================] - 2s 796us/step - loss: 1.4733e-09 - accuracy: 1.0000 - val_loss: 1.5435e-09 - val_accuracy: 1.0000\n",
      "Epoch 20/50\n",
      "1902/1902 [==============================] - 2s 802us/step - loss: 1.3804e-09 - accuracy: 1.0000 - val_loss: 1.4894e-09 - val_accuracy: 1.0000\n",
      "Epoch 21/50\n",
      "1902/1902 [==============================] - 2s 794us/step - loss: 1.4137e-09 - accuracy: 1.0000 - val_loss: 1.5381e-09 - val_accuracy: 1.0000\n",
      "Epoch 22/50\n",
      "1902/1902 [==============================] - 1s 784us/step - loss: 1.4496e-09 - accuracy: 1.0000 - val_loss: 1.5551e-09 - val_accuracy: 1.0000\n",
      "Epoch 23/50\n",
      "1902/1902 [==============================] - 1s 774us/step - loss: 1.3727e-09 - accuracy: 1.0000 - val_loss: 1.3476e-09 - val_accuracy: 1.0000\n",
      "Epoch 24/50\n",
      "1902/1902 [==============================] - 1s 758us/step - loss: 1.3785e-09 - accuracy: 1.0000 - val_loss: 1.5030e-09 - val_accuracy: 1.0000\n",
      "Epoch 25/50\n",
      "1902/1902 [==============================] - 1s 782us/step - loss: 1.4066e-09 - accuracy: 1.0000 - val_loss: 1.4460e-09 - val_accuracy: 1.0000\n",
      "Epoch 26/50\n",
      "1902/1902 [==============================] - 1s 766us/step - loss: 1.4589e-09 - accuracy: 1.0000 - val_loss: 1.3063e-09 - val_accuracy: 1.0000\n",
      "Epoch 27/50\n",
      "1902/1902 [==============================] - 1s 759us/step - loss: 1.3243e-09 - accuracy: 1.0000 - val_loss: 1.3286e-09 - val_accuracy: 1.0000\n",
      "Epoch 28/50\n",
      "1902/1902 [==============================] - 1s 744us/step - loss: 1.3470e-09 - accuracy: 1.0000 - val_loss: 1.4233e-09 - val_accuracy: 1.0000\n",
      "Epoch 29/50\n",
      "1902/1902 [==============================] - 1s 758us/step - loss: 1.4508e-09 - accuracy: 1.0000 - val_loss: 1.5556e-09 - val_accuracy: 1.0000\n",
      "Epoch 30/50\n",
      "1902/1902 [==============================] - 1s 777us/step - loss: 1.4261e-09 - accuracy: 1.0000 - val_loss: 1.4410e-09 - val_accuracy: 1.0000\n",
      "Epoch 31/50\n",
      "1902/1902 [==============================] - 1s 769us/step - loss: 1.4548e-09 - accuracy: 1.0000 - val_loss: 1.4419e-09 - val_accuracy: 1.0000\n",
      "Epoch 32/50\n",
      "1902/1902 [==============================] - 1s 752us/step - loss: 1.3595e-09 - accuracy: 1.0000 - val_loss: 1.4362e-09 - val_accuracy: 1.0000\n",
      "Epoch 33/50\n",
      "1902/1902 [==============================] - 1s 766us/step - loss: 1.3940e-09 - accuracy: 1.0000 - val_loss: 1.3638e-09 - val_accuracy: 1.0000\n",
      "Epoch 34/50\n",
      "1902/1902 [==============================] - 1s 759us/step - loss: 1.2863e-09 - accuracy: 1.0000 - val_loss: 1.3656e-09 - val_accuracy: 1.0000\n",
      "Epoch 35/50\n",
      "1902/1902 [==============================] - 1s 753us/step - loss: 1.3677e-09 - accuracy: 1.0000 - val_loss: 1.4184e-09 - val_accuracy: 1.0000\n",
      "Epoch 36/50\n",
      "1902/1902 [==============================] - 1s 740us/step - loss: 1.4017e-09 - accuracy: 1.0000 - val_loss: 1.3943e-09 - val_accuracy: 1.0000\n",
      "Epoch 37/50\n",
      "1902/1902 [==============================] - 1s 750us/step - loss: 1.3885e-09 - accuracy: 1.0000 - val_loss: 1.4657e-09 - val_accuracy: 1.0000\n",
      "Epoch 38/50\n",
      "1902/1902 [==============================] - 1s 770us/step - loss: 1.3138e-09 - accuracy: 1.0000 - val_loss: 1.2379e-09 - val_accuracy: 1.0000\n",
      "Epoch 39/50\n",
      "1902/1902 [==============================] - 1s 742us/step - loss: 1.2401e-09 - accuracy: 1.0000 - val_loss: 1.3075e-09 - val_accuracy: 1.0000\n",
      "Epoch 40/50\n",
      "1902/1902 [==============================] - 1s 766us/step - loss: 1.3061e-09 - accuracy: 1.0000 - val_loss: 1.3774e-09 - val_accuracy: 1.0000\n",
      "Epoch 41/50\n",
      "1902/1902 [==============================] - 1s 767us/step - loss: 1.3753e-09 - accuracy: 1.0000 - val_loss: 1.4476e-09 - val_accuracy: 1.0000\n",
      "Epoch 42/50\n",
      "1902/1902 [==============================] - 1s 744us/step - loss: 1.3707e-09 - accuracy: 1.0000 - val_loss: 1.4017e-09 - val_accuracy: 1.0000\n",
      "Epoch 43/50\n",
      "1902/1902 [==============================] - 1s 754us/step - loss: 1.3118e-09 - accuracy: 1.0000 - val_loss: 1.3583e-09 - val_accuracy: 1.0000\n",
      "Epoch 44/50\n",
      "1902/1902 [==============================] - 1s 740us/step - loss: 1.3154e-09 - accuracy: 1.0000 - val_loss: 1.3005e-09 - val_accuracy: 1.0000\n",
      "Epoch 45/50\n",
      "1902/1902 [==============================] - 1s 743us/step - loss: 1.2939e-09 - accuracy: 1.0000 - val_loss: 1.3583e-09 - val_accuracy: 1.0000\n",
      "Epoch 46/50\n",
      "1902/1902 [==============================] - 1s 749us/step - loss: 1.3517e-09 - accuracy: 1.0000 - val_loss: 1.4172e-09 - val_accuracy: 1.0000\n",
      "Epoch 47/50\n",
      "1902/1902 [==============================] - 1s 766us/step - loss: 1.3940e-09 - accuracy: 1.0000 - val_loss: 1.4010e-09 - val_accuracy: 1.0000\n",
      "Epoch 48/50\n",
      "1902/1902 [==============================] - 1s 748us/step - loss: 1.3640e-09 - accuracy: 1.0000 - val_loss: 1.3281e-09 - val_accuracy: 1.0000\n",
      "Epoch 49/50\n",
      "1902/1902 [==============================] - 1s 752us/step - loss: 1.3136e-09 - accuracy: 1.0000 - val_loss: 1.3778e-09 - val_accuracy: 1.0000\n",
      "Epoch 50/50\n",
      "1902/1902 [==============================] - 1s 751us/step - loss: 1.3599e-09 - accuracy: 1.0000 - val_loss: 1.4274e-09 - val_accuracy: 1.0000\n"
     ]
    },
    {
     "data": {
      "text/plain": [
       "<keras.callbacks.History at 0x7f89511ef1d0>"
      ]
     },
     "execution_count": 5,
     "metadata": {},
     "output_type": "execute_result"
    }
   ],
   "source": [
    "from tensorflow.keras.models import Sequential\n",
    "from tensorflow.keras.layers import Dense\n",
    "\n",
    "model = Sequential()\n",
    "model.add(Dense(32, input_dim=X_train.shape[1], activation='relu'))\n",
    "model.add(Dense(16, activation='relu'))\n",
    "model.add(Dense(1, activation='sigmoid'))\n",
    "\n",
    "model.compile(loss='binary_crossentropy', optimizer='adam', metrics=['accuracy'])\n",
    "model.fit(X_train, y_train, epochs=50, batch_size=10, validation_split=0.2)\n"
   ]
  },
  {
   "cell_type": "code",
   "execution_count": 6,
   "metadata": {
    "dotnet_interactive": {
     "language": "csharp"
    },
    "polyglot_notebook": {
     "kernelName": "csharp"
    }
   },
   "outputs": [
    {
     "name": "stdout",
     "output_type": "stream",
     "text": [
      "186/186 [==============================] - 0s 686us/step - loss: 1.3495e-09 - accuracy: 1.0000\n",
      "Accuracy on test data: 1.00\n"
     ]
    }
   ],
   "source": [
    "loss, accuracy = model.evaluate(X_test, y_test)\n",
    "print(f\"Accuracy on test data: {accuracy:.2f}\")"
   ]
  }
 ],
 "metadata": {
  "kernelspec": {
   "display_name": "Python 3",
   "language": "python",
   "name": "python3"
  },
  "language_info": {
   "codemirror_mode": {
    "name": "ipython",
    "version": 3
   },
   "file_extension": ".py",
   "mimetype": "text/x-python",
   "name": "python",
   "nbconvert_exporter": "python",
   "pygments_lexer": "ipython3",
   "version": "3.7.3"
  },
  "orig_nbformat": 4,
  "polyglot_notebook": {
   "kernelInfo": {
    "defaultKernelName": "csharp",
    "items": [
     {
      "aliases": [],
      "name": "csharp"
     }
    ]
   }
  }
 },
 "nbformat": 4,
 "nbformat_minor": 2
}
